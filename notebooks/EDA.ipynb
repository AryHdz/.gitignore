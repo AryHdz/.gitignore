# %% [markdown]
# # Análisis Exploratorio de Datos - vehicles_us.csv

# %%
# Importar librerías necesarias
import pandas as pd
import plotly.express as px

# %%
# Cargar los datos
df = pd.read_csv('../vehicles_us.csv')  # Ajusta la ruta según sea necesario

# %%
# Mostrar primeras filas
df.head()

# %%
# Información básica del dataset
df.info()

# %%
# Estadísticas descriptivas
df.describe()

# %% [markdown]
# ## Visualizaciones con Plotly Express

# %%
# Histograma de precios
fig = px.histogram(df, x='price', title='Distribución de Precios')
fig.show()

# %%
# Gráfico de dispersión: precio vs año del modelo
fig = px.scatter(df, x='model_year', y='price', color='type', 
                 title='Precio vs Año del Modelo por Tipo de Vehículo')
fig.show()

# %%
# Boxplot de precios por tipo de vehículo
fig = px.box(df, x='type', y='price', title='Distribución de Precios por Tipo de Vehículo')
fig.show()

# %%
# Gráfico de barras: cantidad de vehículos por tipo
fig = px.bar(df['type'].value_counts().reset_index(), 
             x='index', y='type', 
             title='Cantidad de Vehículos por Tipo',
             labels={'index': 'Tipo de Vehículo', 'type': 'Cantidad'})
fig.show()

# %%
# Mapa de calor de correlaciones (solo para variables numéricas)
numeric_df = df.select_dtypes(include=['float64', 'int64'])
fig = px.imshow(numeric_df.corr(), title='Mapa de Calor de Correlaciones')
fig.show()
